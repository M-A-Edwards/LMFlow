{
 "cells": [
  {
   "cell_type": "code",
   "execution_count": 22,
   "id": "3b4ceec8",
   "metadata": {},
   "outputs": [],
   "source": [
    "import json\n",
    "\n",
    "import jsonlines"
   ]
  },
  {
   "cell_type": "code",
   "execution_count": 15,
   "id": "50af9361",
   "metadata": {},
   "outputs": [],
   "source": [
    "data = list(jsonlines.open(\"./ifeval_qwen.jsonl\", 'r'))"
   ]
  },
  {
   "cell_type": "code",
   "execution_count": 16,
   "id": "531c2711",
   "metadata": {},
   "outputs": [],
   "source": [
    "failed = []\n",
    "for datapoint in data:\n",
    "    if datapoint['prompt_level_strict_acc'] == False:\n",
    "        failed.append(datapoint)"
   ]
  },
  {
   "cell_type": "code",
   "execution_count": 23,
   "id": "aa879249",
   "metadata": {},
   "outputs": [],
   "source": [
    "with open('failed.jsonl', 'w') as f:\n",
    "    for item in failed:\n",
    "        f.write(json.dumps(item) + '\\n')"
   ]
  },
  {
   "cell_type": "code",
   "execution_count": 25,
   "id": "f7e32e9c",
   "metadata": {},
   "outputs": [],
   "source": [
    "only_input_output = []\n",
    "for datapoint in data:\n",
    "    only_input_output.append({\n",
    "        \"input\": datapoint['doc']['prompt'],\n",
    "        \"output\": datapoint['resps'][0][0]\n",
    "    })"
   ]
  },
  {
   "cell_type": "code",
   "execution_count": 26,
   "id": "5ceddf13",
   "metadata": {},
   "outputs": [],
   "source": [
    "with open('only_input_output.jsonl', 'w') as f:\n",
    "    for item in only_input_output:\n",
    "        f.write(json.dumps(item) + '\\n')"
   ]
  }
 ],
 "metadata": {
  "kernelspec": {
   "display_name": "base",
   "language": "python",
   "name": "python3"
  },
  "language_info": {
   "codemirror_mode": {
    "name": "ipython",
    "version": 3
   },
   "file_extension": ".py",
   "mimetype": "text/x-python",
   "name": "python",
   "nbconvert_exporter": "python",
   "pygments_lexer": "ipython3",
   "version": "3.11.5"
  }
 },
 "nbformat": 4,
 "nbformat_minor": 5
}
