{
 "cells": [
  {
   "cell_type": "code",
   "execution_count": 2,
   "metadata": {},
   "outputs": [],
   "source": [
    "import json\n",
    "import os\n",
    "\n",
    "def read_jsonl(data_path):\n",
    "    with open(data_path,'r') as f:\n",
    "        data = [json.loads(line) for line in f]\n",
    "    return data\n",
    "\n",
    "def write_jsonl(data_path, data):\n",
    "    with open(data_path, 'w') as f:\n",
    "        for item in data:\n",
    "            f.write(json.dumps(item) + \"\\n\")\n",
    "            \n",
    "def read_json(data_path):\n",
    "    with open(data_path,'r') as f:\n",
    "        data = json.load(f)\n",
    "    return data\n",
    "\n",
    "def write_json(data_path, data):\n",
    "    with open(data_path,'w',encoding='utf8') as f:\n",
    "        json.dump(data,f)\n"
   ]
  },
  {
   "cell_type": "code",
   "execution_count": 3,
   "metadata": {},
   "outputs": [],
   "source": [
    "sharegpt_path = \"../ShareGPT_V2_unfiltered_cleaned_split.json\"\n",
    "\n",
    "sharegpt = read_json(sharegpt_path)"
   ]
  },
  {
   "cell_type": "code",
   "execution_count": null,
   "metadata": {},
   "outputs": [],
   "source": []
  }
 ],
 "metadata": {
  "kernelspec": {
   "display_name": "jupyter_py3",
   "language": "python",
   "name": "python3"
  },
  "language_info": {
   "codemirror_mode": {
    "name": "ipython",
    "version": 3
   },
   "file_extension": ".py",
   "mimetype": "text/x-python",
   "name": "python",
   "nbconvert_exporter": "python",
   "pygments_lexer": "ipython3",
   "version": "3.9.16"
  },
  "orig_nbformat": 4
 },
 "nbformat": 4,
 "nbformat_minor": 2
}
